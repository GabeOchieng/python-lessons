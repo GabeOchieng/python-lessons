{
 "cells": [
  {
   "cell_type": "markdown",
   "metadata": {},
   "source": [
    "# Making a Web Application\n",
    "What is a web application? A program that you run through your web browser. Python, along with a package called `Flask`, makes this easy."
   ]
  },
  {
   "cell_type": "markdown",
   "metadata": {},
   "source": [
    "Then you create your Flask application:"
   ]
  },
  {
   "cell_type": "code",
   "execution_count": null,
   "metadata": {
    "collapsed": false
   },
   "outputs": [],
   "source": [
    "from flask import Flask\n",
    "app = Flask(__name__)\n",
    "\n",
    "@app.route(\"/\")\n",
    "def index():\n",
    "    return \"Hi from a webapp!\"\n",
    "\n",
    "app.run(host='0.0.0.0', debug=True)"
   ]
  },
  {
   "cell_type": "markdown",
   "metadata": {},
   "source": [
    "Run that in Pycharm, then go here in your browser:\n",
    "\n",
    "`http://0.0.0.0:5000/`\n",
    "\n",
    "You should see the greeting.\n",
    "\n",
    "![x](browser-result.png)"
   ]
  },
  {
   "cell_type": "markdown",
   "metadata": {},
   "source": [
    "## Others Can Run Your Webapp\n",
    "Run `ifconfig` (Linux, Mac) or `ipconfig` (Windows) to find out your IP address. It may start with 192.168. Have others on your local area network connect to your webapp using your IP address. For example, if your IP address is 192.168.1.7, have them use this address:\n",
    "\n",
    "`http://192.168.1.7:5000/`\n"
   ]
  },
  {
   "cell_type": "markdown",
   "metadata": {},
   "source": [
    "## Networking Background\n",
    "### IP Addresses\n",
    "Computers connected to a network typically have an address that is used to connect to them from other computers. It is called an Internet Protocol (IP) address.\n",
    "### Ports\n",
    "A networked computer may offer many services. It may deliver web pages, email, or act as a game server. Different services may use different ports. For example, web servers usually use ports 80 and 443. Mail uses 25 and several others. Flask, by default, uses 5000."
   ]
  },
  {
   "cell_type": "code",
   "execution_count": null,
   "metadata": {
    "collapsed": true
   },
   "outputs": [],
   "source": []
  }
 ],
 "metadata": {
  "kernelspec": {
   "display_name": "Python 3",
   "language": "python",
   "name": "python3"
  },
  "language_info": {
   "codemirror_mode": {
    "name": "ipython",
    "version": 3
   },
   "file_extension": ".py",
   "mimetype": "text/x-python",
   "name": "python",
   "nbconvert_exporter": "python",
   "pygments_lexer": "ipython3",
   "version": "3.5.1"
  }
 },
 "nbformat": 4,
 "nbformat_minor": 0
}
